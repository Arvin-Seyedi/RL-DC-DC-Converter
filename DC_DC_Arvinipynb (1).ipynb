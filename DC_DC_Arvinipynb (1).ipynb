{
  "nbformat": 4,
  "nbformat_minor": 0,
  "metadata": {
    "colab": {
      "private_outputs": true,
      "provenance": []
    },
    "kernelspec": {
      "name": "python3",
      "display_name": "Python 3"
    },
    "language_info": {
      "name": "python"
    }
  },
  "cells": [
    {
      "cell_type": "code",
      "source": [
        "import gym\n",
        "from gym import Env\n",
        "from gym.spaces import Discrete, Box\n",
        "import random\n",
        "import numpy as np\n",
        "import pandas as pd\n",
        "import matplotlib.pyplot as plt"
      ],
      "metadata": {
        "id": "ncO8H-QBWYfu"
      },
      "execution_count": null,
      "outputs": []
    },
    {
      "cell_type": "code",
      "source": [
        "class DC_DC_Arvin(gym.Env):\n",
        "\n",
        "    # This function is the initialisations.......\n",
        "    def __init__(self, intended_out_put):\n",
        "        # The user define the the out put voltage we need by hard coding...\n",
        "        self.intended_out_put = int(intended_out_put)\n",
        "\n",
        "        # I assumed that we have 3 actions associated with Duty-Cycle including: increasing, decreasing and do nothing.\n",
        "        self.action_space = Discrete(3)\n",
        "\n",
        "        # I assumed only 1 observation in this case including the out put voltage. out put voltage range:0-50 V\n",
        "\n",
        "        self.observation_space = self.observation_space = Box(low=np.array([0]), high=np.array([50]), shape=(1,), dtype=np.float32)\n",
        "\n",
        "        # set up the start in-put voltage, I consider a random number between intended_out_put-100 as voltage for starting....\n",
        "        self.In_voltage = random.randint(int(intended_out_put),50)\n",
        "\n",
        "        # Set up the Start Duty-Cycle. Random number between 0-1\n",
        "        self.Duty_cycle = round ( random.random(), 2 )\n",
        "\n",
        "        # Out-put voltage\n",
        "        self.Out_voltage = (self.Duty_cycle)*(self.In_voltage)\n",
        "\n",
        "        # how many times our model can take an action to obtain the intended out put voltage.\n",
        "        self.chances = 100\n",
        "\n",
        "        # Set up Max and Min of range for keeping voltage.\n",
        "\n",
        "\n",
        "\n",
        "    def step(self,action):\n",
        "\n",
        "        # Apply action: I assume that Duty cycle is going to change by steps of 0.01\n",
        "        # 0/100 -0.01 =-0.01 Duty-cycle\n",
        "        # 1/100 -0.01 =0 Duty-cycle\n",
        "        # 2/100 -0.01 =+0.01 Duty-cycle\n",
        "\n",
        "        self.Duty_cycle +=( (action/100) - 0.01 )\n",
        "\n",
        "        # Clip the duty cycle within the range [0, 1]\n",
        "        self.Duty_cycle = np.clip( self.Duty_cycle , 0.0, 1.0)\n",
        "\n",
        "        # Calculating the Out-put voltage\n",
        "        self.Out_voltage = round ( (self.Duty_cycle)*(self.In_voltage),2 )\n",
        "\n",
        "\n",
        "        # since we our model is allowed to have only 100 actions, after each action we take one chance...\n",
        "        self.chances -= 1\n",
        "\n",
        "        # Calculating the reward\n",
        "        reward , range = self.calculate_reward()\n",
        "\n",
        "        # Check to see whether we are done or not by chances\n",
        "        done = self.check_done()\n",
        "\n",
        "\n",
        "\n",
        "\n",
        "\n",
        "        return self.Out_voltage , self.Duty_cycle , reward , done , self.intended_out_put , self.In_voltage , range\n",
        "\n",
        "\n",
        "    def calculate_reward(self):\n",
        "\n",
        "      # Calculate the reward based on the current state\n",
        "\n",
        "      # Compute the deviation from the target voltage\n",
        "      voltage_deviation = abs(self.Out_voltage - self.intended_out_put)\n",
        "\n",
        "      # Set up Max value for error range to be accepted to get reward.\n",
        "      max = (self.intended_out_put*0.03)\n",
        "\n",
        "\n",
        "      # Define the reward function based on the deviation\n",
        "      if voltage_deviation <= (max):\n",
        "        reward = +1\n",
        "      else:\n",
        "        reward = -1\n",
        "\n",
        "      return reward,max\n",
        "\n",
        "    def check_done(self):\n",
        "\n",
        "      # Determine if the episode is terminated\n",
        "\n",
        "      if self.chances <= 0:\n",
        "\n",
        "        return True\n",
        "\n",
        "      else:\n",
        "\n",
        "        return False\n",
        "\n",
        "\n",
        "\n",
        "\n",
        "\n",
        "    def render(self):\n",
        "        # Actually we do not have any visuall output so we do not need this fucntion.\n",
        "        pass\n",
        "\n",
        "\n",
        "    def reset(self):\n",
        "        # Implement the reset function that resets the environment to an initial state\n",
        "        self.In_voltage = random.randint(1,100)\n",
        "\n",
        "        # Also, we should reset the chances we have\n",
        "        self.chances = 100\n",
        "\n",
        "        return self.In_voltage\n"
      ],
      "metadata": {
        "id": "ugZ9wJHuWc69"
      },
      "execution_count": null,
      "outputs": []
    },
    {
      "cell_type": "code",
      "source": [
        "env = DC_DC_Arvin(20)"
      ],
      "metadata": {
        "id": "bMR3ve_Ck1IF"
      },
      "execution_count": null,
      "outputs": []
    },
    {
      "cell_type": "code",
      "source": [
        "action = 0\n",
        "step = env.step(action)\n",
        "print(f'Out-put Voltage: {step[0]} \\nDuty cycle: {step[1]} \\nReward: {step[2]} \\nIs it done?: {step[3]} \\nVoltage we need: {step[4]} \\nInput Voltage: {step[5]} ')\n",
        "print (f'If we keep error voltage as {step[6]}')"
      ],
      "metadata": {
        "id": "1p709UI-k_Hp"
      },
      "execution_count": null,
      "outputs": []
    }
  ]
}